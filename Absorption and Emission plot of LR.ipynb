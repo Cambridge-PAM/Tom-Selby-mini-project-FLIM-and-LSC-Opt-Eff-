{
 "cells": [
  {
   "cell_type": "code",
   "execution_count": 1,
   "id": "2e5e652b",
   "metadata": {},
   "outputs": [],
   "source": [
    "import matplotlib.pyplot as plt\n",
    "import pandas as pd\n",
    "import numpy as np\n",
    "import os\n",
    "os.chdir(r'C:\\Users\\tselb\\OneDrive - University of Cambridge\\Documents\\Mini 1\\For absortion emission plot')\n",
    "from scipy.signal import find_peaks"
   ]
  },
  {
   "cell_type": "markdown",
   "id": "62360a33",
   "metadata": {},
   "source": [
    "# Import Emission Data"
   ]
  },
  {
   "cell_type": "code",
   "execution_count": 2,
   "id": "c77a968a",
   "metadata": {},
   "outputs": [],
   "source": [
    "df_emission = pd.read_table(\"test_meas.asc\")\n",
    "df_emission = df_emission.iloc[:-28] #only get data I want\n",
    "#Convert index into wl\n",
    "step_size = (682.54-483.56)/1599\n",
    "current_wl = 483.56\n",
    "wavelength = [] \n",
    "for i in range(1600):\n",
    "    wavelength.append(current_wl)\n",
    "    current_wl  =  current_wl+ step_size\n",
    "wavelength[1599]\n",
    "#Rename axis\n",
    "df_emission.insert(0, \"Wavelength\", wavelength, allow_duplicates=False)\n",
    "df_emission = df_emission.rename(columns= {\"Range: 483.56 - 682.54\": \"Intensity\"})"
   ]
  },
  {
   "cell_type": "markdown",
   "id": "e752d1da",
   "metadata": {},
   "source": [
    "# Peak Pick Emission data"
   ]
  },
  {
   "cell_type": "code",
   "execution_count": 3,
   "id": "92b30223",
   "metadata": {},
   "outputs": [
    {
     "name": "stdout",
     "output_type": "stream",
     "text": [
      "(array([ 381, 1245], dtype=int64), {'peak_heights': array([524., 904.])})\n",
      "382     530.971745\n",
      "1246    638.488143\n",
      "Name: Wavelength, dtype: float64\n"
     ]
    }
   ],
   "source": [
    "x= df_emission.Wavelength #Create an array of wl and intensity from df\n",
    "y= df_emission.Intensity\n",
    "\n",
    "peaks= find_peaks(y, height= 450, distance = 400) #peak pick\n",
    "height = peaks[1]['peak_heights'] #get height\n",
    "print(peaks)\n",
    "peak_value = x[peaks[0]]\n",
    "print(peak_value)\n",
    "peak_value=peak_value.to_numpy().astype(float)"
   ]
  },
  {
   "cell_type": "markdown",
   "id": "e3880a9f",
   "metadata": {},
   "source": [
    "# Import Absorbane"
   ]
  },
  {
   "cell_type": "code",
   "execution_count": 4,
   "id": "9b1e16c2",
   "metadata": {},
   "outputs": [
    {
     "name": "stderr",
     "output_type": "stream",
     "text": [
      "C:\\Users\\tselb\\AppData\\Local\\Temp/ipykernel_11644/1576758481.py:6: DeprecationWarning: `np.float` is a deprecated alias for the builtin `float`. To silence this warning, use `float` by itself. Doing this will not modify any behavior and is safe. If you specifically wanted the numpy scalar type, use `np.float64` here.\n",
      "Deprecated in NumPy 1.20; for more details and guidance: https://numpy.org/devdocs/release/1.20.0-notes.html#deprecations\n",
      "  array_abs = array_abs.astype(np.float)\n"
     ]
    }
   ],
   "source": [
    "col = [\"Wl\",\"A\"]\n",
    "df_abs= pd.read_csv('doped azz.WDATA', sep=\",\", names=col)\n",
    "df_abs = df_abs.iloc[40:,:]\n",
    "array_abs= df_abs.to_numpy()\n",
    "#print(array)\n",
    "array_abs = array_abs.astype(np.float)\n",
    "x_abs= array_abs[:,[0]]\n",
    "x_abs= x_abs.transpose()\n",
    "x_abs=x_abs[0]\n",
    "\n",
    "y_abs= array_abs[:,[1]]\n",
    "y_abs=y_abs.transpose()\n",
    "y_abs=y_abs[0]"
   ]
  },
  {
   "cell_type": "markdown",
   "id": "00f22349",
   "metadata": {},
   "source": [
    "# Peak Pick absorbance"
   ]
  },
  {
   "cell_type": "code",
   "execution_count": 5,
   "id": "e74807ba",
   "metadata": {},
   "outputs": [
    {
     "name": "stdout",
     "output_type": "stream",
     "text": [
      "[573.69 537.69 443.02]\n"
     ]
    }
   ],
   "source": [
    "peaks_abs = find_peaks(y_abs, height= 1, distance = 36, prominence=0.0000001) #peak pick\n",
    "height_abs = peaks_abs[1]['peak_heights'] #get height\n",
    "\n",
    "peak_abs_value = x_abs[peaks_abs[0]]\n",
    "print(peak_abs_value)"
   ]
  },
  {
   "cell_type": "markdown",
   "id": "29680e40",
   "metadata": {},
   "source": [
    "# Plot"
   ]
  },
  {
   "cell_type": "code",
   "execution_count": 6,
   "id": "6ca0719e",
   "metadata": {},
   "outputs": [
    {
     "name": "stdout",
     "output_type": "stream",
     "text": [
      "[530.97174484 638.48814259 573.69       537.69       443.02      ]\n",
      "530.9717448405288\n",
      "638.4881425891297\n",
      "573.69\n",
      "537.69\n",
      "443.02\n"
     ]
    },
    {
     "data": {
      "image/png": "[encoded data removed]",
      "text/plain": [
       "<Figure size 432x288 with 2 Axes>"
      ]
     },
     "metadata": {
      "needs_background": "light"
     },
     "output_type": "display_data"
    }
   ],
   "source": [
    "fig,ax = plt.subplots()\n",
    "ax.set_xlabel('Wavelength /nm')\n",
    "ax.set_ylabel('Intensity/ counts', color='r') #Plot excitation as red\n",
    "ax.set_xlim(min(x),max(x))\n",
    "ax.set_ylim(min(y),max(y)*1.5)\n",
    "ax.plot(x,y, label='Excitation', color='r')\n",
    "ax2=ax.twinx() #Clone the x axis to plot both abs and emission on the same graph\n",
    "ax2.plot(x_abs,y_abs, color='b')  #Plot absorbance as blue\n",
    "ax2.set_ylim([0.5,2.5])\n",
    "ax2.set_ylabel('Absorbance', color='b')\n",
    "\n",
    "all_peaks =np.concatenate([peak_value,peak_abs_value],axis =0)\n",
    "print(all_peaks)\n",
    "color=['r','r','b','b','b']\n",
    "for i in range(len(all_peaks)): #print peaks and line onto graph- note the ymin/max is given in proportion to graph window not the values on the y axis\n",
    "    print(all_peaks[i])\n",
    "    ax.axvline(x=all_peaks[i], ymin= 0.65, ymax=0.8,linewidth=2, color=color[i])\n",
    "    plt.text(all_peaks[i],2.15,str(round(all_peaks[i],2)),rotation=90,horizontalalignment='center')\n",
    "plt.show()\n",
    "#plt.savefig('absorbance and ext plot.png', dpi=1000)"
   ]
  },
  {
   "cell_type": "code",
   "execution_count": null,
   "id": "b6804652",
   "metadata": {},
   "outputs": [],
   "source": []
  }
 ],
 "metadata": {
  "kernelspec": {
   "display_name": "Python 3 (ipykernel)",
   "language": "python",
   "name": "python3"
  },
  "language_info": {
   "codemirror_mode": {
    "name": "ipython",
    "version": 3
   },
   "file_extension": ".py",
   "mimetype": "text/x-python",
   "name": "python",
   "nbconvert_exporter": "python",
   "pygments_lexer": "ipython3",
   "version": "3.9.7"
  }
 },
 "nbformat": 4,
 "nbformat_minor": 5
}
